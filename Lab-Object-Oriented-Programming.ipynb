{
 "cells": [
  {
   "cell_type": "raw",
   "id": "dbf76cba",
   "metadata": {},
   "source": [
    "Python class for a TV"
   ]
  },
  {
   "cell_type": "code",
   "execution_count": 1,
   "id": "8841a1c2",
   "metadata": {},
   "outputs": [],
   "source": [
    "class Tv:\n",
    "    def __init__(self, size):\n",
    "        self.on = False\n",
    "        self.volume = 50.0\n",
    "        self.active_channel = 1\n",
    "        self.input = \"Anthena\"\n",
    "        if size in [42, 50, 55, 65, 75]:\n",
    "            self.size = size\n",
    "            print(f\"Tv size: {self.size}\")\n",
    "        else:\n",
    "            raise ValueError(\"Invalid size. The available sizes are 42, 50, 55, 65, 75\")\n",
    "\n",
    "    def switch_on(self):\n",
    "        self.on = True\n",
    "        print(\"TV is switched on.\")\n",
    "\n",
    "    def switch_off(self):\n",
    "        self.on = False\n",
    "        print(\"TV is switched off.\")\n",
    "\n",
    "    def set_volume(self, volume):\n",
    "        if 0 <= volume <= 100:\n",
    "            self.volume = volume\n",
    "            print(f\"Volume set to {self.volume}.\")\n",
    "        else:\n",
    "            print(\"Invalid volume value. Volume should be between 0 and 100.\")\n",
    "\n",
    "    def change_channel(self, channel):\n",
    "        if 1 <= channel <= 10:\n",
    "            self.active_channel = channel\n",
    "            print(f\"Changed to channel {self.active_channel}.\")\n",
    "        else:\n",
    "            print(\"Invalid channel value. Channel should be between 1 and 10.\")\n",
    "\n",
    "    def set_input(self, value):\n",
    "        valid_inputs = [\"Anthena\", \"HDMI1\", \"HDMI2\", \"HDMI3\"]\n",
    "        if value in valid_inputs:\n",
    "            self.input = value\n",
    "            print(f\"Input set to {self.input}.\")\n",
    "        else:\n",
    "            print(\"Invalid input value.\")"
   ]
  },
  {
   "cell_type": "code",
   "execution_count": null,
   "id": "e0bfc765",
   "metadata": {},
   "outputs": [],
   "source": []
  }
 ],
 "metadata": {
  "kernelspec": {
   "display_name": "Python 3 (ipykernel)",
   "language": "python",
   "name": "python3"
  },
  "language_info": {
   "codemirror_mode": {
    "name": "ipython",
    "version": 3
   },
   "file_extension": ".py",
   "mimetype": "text/x-python",
   "name": "python",
   "nbconvert_exporter": "python",
   "pygments_lexer": "ipython3",
   "version": "3.9.13"
  }
 },
 "nbformat": 4,
 "nbformat_minor": 5
}
